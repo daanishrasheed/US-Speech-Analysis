{
 "cells": [
  {
   "cell_type": "markdown",
   "metadata": {},
   "source": [
    "### Step 1: Import your libraries\n",
    "We'll be using a few libraries to firstly read the txt files and subsequently organise them into a DataFrame.\n",
    "1. pandas as pd\n",
    "2. glob"
   ]
  },
  {
   "cell_type": "code",
   "execution_count": 1,
   "metadata": {},
   "outputs": [],
   "source": [
    "import pandas as pd\n",
    "import glob"
   ]
  },
  {
   "cell_type": "markdown",
   "metadata": {},
   "source": [
    "### Step 2: Read Obama's 2010 speech and store the string in a variable\n",
    "We'll start with reading one .txt file first, and store the string in a variable (you can call it anything you want). "
   ]
  },
  {
   "cell_type": "code",
   "execution_count": 2,
   "metadata": {
    "scrolled": true
   },
   "outputs": [],
   "source": [
    "# Step 2: Read Obama's 2010 speech and store in a variable\n",
    "fn = 'obama2010.txt'\n",
    "with open(fn, 'r') as f:\n",
    "    o2010 = f.read()"
   ]
  },
  {
   "cell_type": "markdown",
   "metadata": {},
   "source": [
    "### Step 3: Get a list of your filenames in your folder"
   ]
  },
  {
   "cell_type": "code",
   "execution_count": 3,
   "metadata": {},
   "outputs": [
    {
     "data": {
      "text/plain": [
       "['obama2010.txt',\n",
       " 'obama2011.txt',\n",
       " 'obama2012.txt',\n",
       " 'obama2013.txt',\n",
       " 'obama2014.txt',\n",
       " 'obama2015.txt',\n",
       " 'obama2016.txt',\n",
       " 'trump2018.txt',\n",
       " 'trump2019.txt',\n",
       " 'trump2020.txt']"
      ]
     },
     "execution_count": 3,
     "metadata": {},
     "output_type": "execute_result"
    }
   ],
   "source": [
    "# Step 3: Get the string of file names that ends with .txt\n",
    "speeches = []\n",
    "for file in glob.glob(\"*.txt\"):\n",
    "    speeches.append(file)\n",
    "\n",
    "speeches"
   ]
  },
  {
   "cell_type": "markdown",
   "metadata": {},
   "source": [
    "### Step 4: Store all of your txt files as a string \n",
    "Now that you've obtained a list of your .txt filenames, it's time to loop through them and repeat Step 2.\n",
    "\n",
    "You'll have to store all of your speech text as strings in a list. This is so that we can build a DataFrame later on.\n",
    "\n",
    "Here's what we suggest:\n",
    "1. Create an empty list\n",
    "2. Use a for loop to loop through the list of filenames\n",
    "3. In each loop\n",
    "    1. Open the corresponding text file\n",
    "    2. Read the text\n",
    "    3. Strip and append the read text into the empty list in 1\n",
    "\n",
    "<strong>Hint: Don't forget to <em>strip</em> your text so there's no trailing left or right whitespaces</strong>"
   ]
  },
  {
   "cell_type": "code",
   "execution_count": 4,
   "metadata": {
    "scrolled": true
   },
   "outputs": [
    {
     "name": "stdout",
     "output_type": "stream",
     "text": [
      "10\n"
     ]
    }
   ],
   "source": [
    "text = []\n",
    "for i in speeches:\n",
    "    f = open(i, 'r', encoding='utf-8')\n",
    "    t = f.read()\n",
    "    text.append(t)\n",
    "print(len(text))"
   ]
  },
  {
   "cell_type": "markdown",
   "metadata": {},
   "source": [
    "## Prepare a DataFrame\n",
    "Now that we have all of the .txt strings in a list, we'll create a DataFrame containing the speeches and basic information about the data you have.\n",
    "\n",
    "We have four columns:\n",
    "1. filename (you already have it from Step 3)\n",
    "2. name\n",
    "3. year\n",
    "4. speech (you got it from Step 4)\n",
    "\n",
    "### Step 5: Get a list of names\n",
    "You'll need a list containing the names in the same order as the speech in the list you got in Step 4.\n",
    "\n",
    "There are a few ways to do it, but since there are only 10 speeches you can consider just making a list manually."
   ]
  },
  {
   "cell_type": "code",
   "execution_count": 5,
   "metadata": {
    "scrolled": true
   },
   "outputs": [
    {
     "name": "stdout",
     "output_type": "stream",
     "text": [
      "['obama', 'obama', 'obama', 'obama', 'obama', 'obama', 'obama', 'trump', 'trump', 'trump']\n"
     ]
    }
   ],
   "source": [
    "names = ['obama', 'obama', 'obama', 'obama', 'obama', 'obama', 'obama', 'trump', 'trump', 'trump']\n",
    "print(names)"
   ]
  },
  {
   "cell_type": "markdown",
   "metadata": {},
   "source": [
    "### Step 6: Get a list of years\n",
    "Similarly, you'll need a list containing the years of the speeches. \n",
    "\n",
    "Take note, the years run from 2010 to 2020, but there were no State of the Union speeches made in 2017. "
   ]
  },
  {
   "cell_type": "code",
   "execution_count": 22,
   "metadata": {},
   "outputs": [
    {
     "name": "stdout",
     "output_type": "stream",
     "text": [
      "['2010', '2011', '2012', '2013', '2014', '2015', '2016', '2018', '2019', '2020']\n"
     ]
    }
   ],
   "source": [
    "years = ['2010', '2011', '2012', '2013', '2014', '2015', '2016', '2018', '2019', '2020']\n",
    "print(years)"
   ]
  },
  {
   "cell_type": "markdown",
   "metadata": {},
   "source": [
    "### Step 7: Create the DataFrame of the speech\n",
    "Now that you have the four lists, it's time to create the DataFrame containing the information you need (scroll up to see the DataFrame we want).\n",
    "\n",
    "There will be four columns:\n",
    "1. filename\n",
    "2. name\n",
    "3. year\n",
    "4. speech\n",
    "\n",
    "<strong>Hint: Google \"create a dataframe using lists\"</strong>"
   ]
  },
  {
   "cell_type": "code",
   "execution_count": 33,
   "metadata": {},
   "outputs": [
    {
     "data": {
      "text/html": [
       "<div>\n",
       "<style scoped>\n",
       "    .dataframe tbody tr th:only-of-type {\n",
       "        vertical-align: middle;\n",
       "    }\n",
       "\n",
       "    .dataframe tbody tr th {\n",
       "        vertical-align: top;\n",
       "    }\n",
       "\n",
       "    .dataframe thead th {\n",
       "        text-align: right;\n",
       "    }\n",
       "</style>\n",
       "<table border=\"1\" class=\"dataframe\">\n",
       "  <thead>\n",
       "    <tr style=\"text-align: right;\">\n",
       "      <th></th>\n",
       "      <th>filename</th>\n",
       "      <th>name</th>\n",
       "      <th>year</th>\n",
       "      <th>speech</th>\n",
       "    </tr>\n",
       "  </thead>\n",
       "  <tbody>\n",
       "    <tr>\n",
       "      <th>0</th>\n",
       "      <td>obama2010.txt</td>\n",
       "      <td>obama</td>\n",
       "      <td>2010</td>\n",
       "      <td>Madam Speaker, Vice President Biden, members o...</td>\n",
       "    </tr>\n",
       "    <tr>\n",
       "      <th>1</th>\n",
       "      <td>obama2011.txt</td>\n",
       "      <td>obama</td>\n",
       "      <td>2011</td>\n",
       "      <td>Mr. Speaker, Mr. Vice President, members of Co...</td>\n",
       "    </tr>\n",
       "    <tr>\n",
       "      <th>2</th>\n",
       "      <td>obama2012.txt</td>\n",
       "      <td>obama</td>\n",
       "      <td>2012</td>\n",
       "      <td>Mr. Speaker, Mr. Vice President, members of C...</td>\n",
       "    </tr>\n",
       "    <tr>\n",
       "      <th>3</th>\n",
       "      <td>obama2013.txt</td>\n",
       "      <td>obama</td>\n",
       "      <td>2013</td>\n",
       "      <td>Mr. Speaker, Mr. Vice President, members of Co...</td>\n",
       "    </tr>\n",
       "    <tr>\n",
       "      <th>4</th>\n",
       "      <td>obama2014.txt</td>\n",
       "      <td>obama</td>\n",
       "      <td>2014</td>\n",
       "      <td>Mr. Speaker, Mr. Vice President, Members of Co...</td>\n",
       "    </tr>\n",
       "    <tr>\n",
       "      <th>5</th>\n",
       "      <td>obama2015.txt</td>\n",
       "      <td>obama</td>\n",
       "      <td>2015</td>\n",
       "      <td>Mr. Speaker, Mr. Vice President, Members of Co...</td>\n",
       "    </tr>\n",
       "    <tr>\n",
       "      <th>6</th>\n",
       "      <td>obama2016.txt</td>\n",
       "      <td>obama</td>\n",
       "      <td>2016</td>\n",
       "      <td>Mr. Speaker, Mr. Vice President, Members of Co...</td>\n",
       "    </tr>\n",
       "    <tr>\n",
       "      <th>7</th>\n",
       "      <td>trump2018.txt</td>\n",
       "      <td>trump</td>\n",
       "      <td>2018</td>\n",
       "      <td>Mr. Speaker, Mr. Vice President, Members of Co...</td>\n",
       "    </tr>\n",
       "    <tr>\n",
       "      <th>8</th>\n",
       "      <td>trump2019.txt</td>\n",
       "      <td>trump</td>\n",
       "      <td>2019</td>\n",
       "      <td>Madam Speaker, Mr. Vice President, Members of ...</td>\n",
       "    </tr>\n",
       "    <tr>\n",
       "      <th>9</th>\n",
       "      <td>trump2020.txt</td>\n",
       "      <td>trump</td>\n",
       "      <td>2020</td>\n",
       "      <td>Thank you very much.  Thank you.  Thank you v...</td>\n",
       "    </tr>\n",
       "  </tbody>\n",
       "</table>\n",
       "</div>"
      ],
      "text/plain": [
       "        filename   name  year  \\\n",
       "0  obama2010.txt  obama  2010   \n",
       "1  obama2011.txt  obama  2011   \n",
       "2  obama2012.txt  obama  2012   \n",
       "3  obama2013.txt  obama  2013   \n",
       "4  obama2014.txt  obama  2014   \n",
       "5  obama2015.txt  obama  2015   \n",
       "6  obama2016.txt  obama  2016   \n",
       "7  trump2018.txt  trump  2018   \n",
       "8  trump2019.txt  trump  2019   \n",
       "9  trump2020.txt  trump  2020   \n",
       "\n",
       "                                              speech  \n",
       "0  Madam Speaker, Vice President Biden, members o...  \n",
       "1  Mr. Speaker, Mr. Vice President, members of Co...  \n",
       "2   Mr. Speaker, Mr. Vice President, members of C...  \n",
       "3  Mr. Speaker, Mr. Vice President, members of Co...  \n",
       "4  Mr. Speaker, Mr. Vice President, Members of Co...  \n",
       "5  Mr. Speaker, Mr. Vice President, Members of Co...  \n",
       "6  Mr. Speaker, Mr. Vice President, Members of Co...  \n",
       "7  Mr. Speaker, Mr. Vice President, Members of Co...  \n",
       "8  Madam Speaker, Mr. Vice President, Members of ...  \n",
       "9   Thank you very much.  Thank you.  Thank you v...  "
      ]
     },
     "execution_count": 33,
     "metadata": {},
     "output_type": "execute_result"
    }
   ],
   "source": [
    "lst = speeches\n",
    "lst2 = names\n",
    "lst3 = years\n",
    "lst4 = text\n",
    "df = pd.DataFrame(list(zip(lst, lst2, lst3, lst4)), columns =['filename', 'name', 'year', 'speech'])\n",
    "df"
   ]
  },
  {
   "cell_type": "markdown",
   "metadata": {},
   "source": [
    "### Step 8: Export your DataFrame as CSV\n",
    "Now that you're done with creating the DataFrame, export it as a CSV so that you can use it in other Parts."
   ]
  },
  {
   "cell_type": "code",
   "execution_count": 34,
   "metadata": {},
   "outputs": [],
   "source": [
    "df.to_csv(r'C:\\Users\\daani\\US-Speech-Analysis\\speechDF.csv', index = False, header = True)"
   ]
  }
 ],
 "metadata": {
  "kernelspec": {
   "display_name": "U4-S1-NLP (Python3)",
   "language": "python",
   "name": "u4-s1-nlp"
  },
  "language_info": {
   "codemirror_mode": {
    "name": "ipython",
    "version": 3
   },
   "file_extension": ".py",
   "mimetype": "text/x-python",
   "name": "python",
   "nbconvert_exporter": "python",
   "pygments_lexer": "ipython3",
   "version": "3.7.1"
  }
 },
 "nbformat": 4,
 "nbformat_minor": 4
}
