{
 "cells": [
  {
   "cell_type": "markdown",
   "metadata": {},
   "source": [
    "### Step 1: Import the following libraries\n",
    "- pandas\n",
    "- matplotlib.pyplot as plt\n",
    "- seaborn as sns"
   ]
  },
  {
   "cell_type": "code",
   "execution_count": 1,
   "metadata": {},
   "outputs": [],
   "source": [
    "import pandas as pd\n",
    "import matplotlib.pyplot as plt\n",
    "import seaborn as sns"
   ]
  },
  {
   "cell_type": "markdown",
   "metadata": {},
   "source": [
    "### End of Part II\n",
    "In this Part, you have successfully organized the speeches that you obtained from various places into a single DataFrame. We will use this CSV for subsequent Parts, where we will analyze the contents of the speeches. "
   ]
  },
  {
   "cell_type": "markdown",
   "metadata": {},
   "source": [
    "### Step 2: Read your CSV from Part II\n",
    "Let's read the CSV that we got from the previous part as a DataFrame."
   ]
  },
  {
   "cell_type": "code",
   "execution_count": 2,
   "metadata": {},
   "outputs": [
    {
     "data": {
      "text/html": [
       "<div>\n",
       "<style scoped>\n",
       "    .dataframe tbody tr th:only-of-type {\n",
       "        vertical-align: middle;\n",
       "    }\n",
       "\n",
       "    .dataframe tbody tr th {\n",
       "        vertical-align: top;\n",
       "    }\n",
       "\n",
       "    .dataframe thead th {\n",
       "        text-align: right;\n",
       "    }\n",
       "</style>\n",
       "<table border=\"1\" class=\"dataframe\">\n",
       "  <thead>\n",
       "    <tr style=\"text-align: right;\">\n",
       "      <th></th>\n",
       "      <th>filename</th>\n",
       "      <th>name</th>\n",
       "      <th>year</th>\n",
       "      <th>speech</th>\n",
       "    </tr>\n",
       "  </thead>\n",
       "  <tbody>\n",
       "    <tr>\n",
       "      <th>0</th>\n",
       "      <td>obama2010.txt</td>\n",
       "      <td>obama</td>\n",
       "      <td>2010</td>\n",
       "      <td>Madam Speaker, Vice President Biden, members o...</td>\n",
       "    </tr>\n",
       "    <tr>\n",
       "      <th>1</th>\n",
       "      <td>obama2011.txt</td>\n",
       "      <td>obama</td>\n",
       "      <td>2011</td>\n",
       "      <td>Mr. Speaker, Mr. Vice President, members of Co...</td>\n",
       "    </tr>\n",
       "    <tr>\n",
       "      <th>2</th>\n",
       "      <td>obama2012.txt</td>\n",
       "      <td>obama</td>\n",
       "      <td>2012</td>\n",
       "      <td>Mr. Speaker, Mr. Vice President, members of C...</td>\n",
       "    </tr>\n",
       "    <tr>\n",
       "      <th>3</th>\n",
       "      <td>obama2013.txt</td>\n",
       "      <td>obama</td>\n",
       "      <td>2013</td>\n",
       "      <td>Mr. Speaker, Mr. Vice President, members of Co...</td>\n",
       "    </tr>\n",
       "    <tr>\n",
       "      <th>4</th>\n",
       "      <td>obama2014.txt</td>\n",
       "      <td>obama</td>\n",
       "      <td>2014</td>\n",
       "      <td>Mr. Speaker, Mr. Vice President, Members of Co...</td>\n",
       "    </tr>\n",
       "    <tr>\n",
       "      <th>5</th>\n",
       "      <td>obama2015.txt</td>\n",
       "      <td>obama</td>\n",
       "      <td>2015</td>\n",
       "      <td>Mr. Speaker, Mr. Vice President, Members of Co...</td>\n",
       "    </tr>\n",
       "    <tr>\n",
       "      <th>6</th>\n",
       "      <td>obama2016.txt</td>\n",
       "      <td>obama</td>\n",
       "      <td>2016</td>\n",
       "      <td>Mr. Speaker, Mr. Vice President, Members of Co...</td>\n",
       "    </tr>\n",
       "    <tr>\n",
       "      <th>7</th>\n",
       "      <td>trump2018.txt</td>\n",
       "      <td>trump</td>\n",
       "      <td>2018</td>\n",
       "      <td>Mr. Speaker, Mr. Vice President, Members of Co...</td>\n",
       "    </tr>\n",
       "    <tr>\n",
       "      <th>8</th>\n",
       "      <td>trump2019.txt</td>\n",
       "      <td>trump</td>\n",
       "      <td>2019</td>\n",
       "      <td>Madam Speaker, Mr. Vice President, Members of ...</td>\n",
       "    </tr>\n",
       "    <tr>\n",
       "      <th>9</th>\n",
       "      <td>trump2020.txt</td>\n",
       "      <td>trump</td>\n",
       "      <td>2020</td>\n",
       "      <td>Thank you very much.  Thank you.  Thank you v...</td>\n",
       "    </tr>\n",
       "  </tbody>\n",
       "</table>\n",
       "</div>"
      ],
      "text/plain": [
       "        filename   name  year  \\\n",
       "0  obama2010.txt  obama  2010   \n",
       "1  obama2011.txt  obama  2011   \n",
       "2  obama2012.txt  obama  2012   \n",
       "3  obama2013.txt  obama  2013   \n",
       "4  obama2014.txt  obama  2014   \n",
       "5  obama2015.txt  obama  2015   \n",
       "6  obama2016.txt  obama  2016   \n",
       "7  trump2018.txt  trump  2018   \n",
       "8  trump2019.txt  trump  2019   \n",
       "9  trump2020.txt  trump  2020   \n",
       "\n",
       "                                              speech  \n",
       "0  Madam Speaker, Vice President Biden, members o...  \n",
       "1  Mr. Speaker, Mr. Vice President, members of Co...  \n",
       "2   Mr. Speaker, Mr. Vice President, members of C...  \n",
       "3  Mr. Speaker, Mr. Vice President, members of Co...  \n",
       "4  Mr. Speaker, Mr. Vice President, Members of Co...  \n",
       "5  Mr. Speaker, Mr. Vice President, Members of Co...  \n",
       "6  Mr. Speaker, Mr. Vice President, Members of Co...  \n",
       "7  Mr. Speaker, Mr. Vice President, Members of Co...  \n",
       "8  Madam Speaker, Mr. Vice President, Members of ...  \n",
       "9   Thank you very much.  Thank you.  Thank you v...  "
      ]
     },
     "execution_count": 2,
     "metadata": {},
     "output_type": "execute_result"
    }
   ],
   "source": [
    "df = pd.read_csv('speechDF.csv')\n",
    "df.head(10)"
   ]
  },
  {
   "cell_type": "markdown",
   "metadata": {},
   "source": [
    "## Engineer features from speech\n",
    "We'll start deriving features from the speeches.\n",
    "\n",
    "1. Number of characters\n",
    "2. Number of sentences\n",
    "3. Average number of characters\n",
    "4. Readability scores\n",
    "\n",
    "We'll work towards this step-by-step, so hope you're hyped! \n",
    "\n",
    "This image serves as a clue to figure out what the current step is asking so it's worth coming back to this image once in a while for reference. \n",
    "\n",
    "### Step 3: Count number of characters in speech\n",
    "Create a new column named len_speech, where it is the total number of characters in the string of the speeches in \"speech\" column.\n",
    "\n",
    "Again, there are a few ways to do this so go for it! \n",
    "\n",
    "<strong>Hint: Google \"find length of string in column python\"</strong>"
   ]
  },
  {
   "cell_type": "code",
   "execution_count": 3,
   "metadata": {},
   "outputs": [
    {
     "data": {
      "text/html": [
       "<div>\n",
       "<style scoped>\n",
       "    .dataframe tbody tr th:only-of-type {\n",
       "        vertical-align: middle;\n",
       "    }\n",
       "\n",
       "    .dataframe tbody tr th {\n",
       "        vertical-align: top;\n",
       "    }\n",
       "\n",
       "    .dataframe thead th {\n",
       "        text-align: right;\n",
       "    }\n",
       "</style>\n",
       "<table border=\"1\" class=\"dataframe\">\n",
       "  <thead>\n",
       "    <tr style=\"text-align: right;\">\n",
       "      <th></th>\n",
       "      <th>filename</th>\n",
       "      <th>name</th>\n",
       "      <th>year</th>\n",
       "      <th>speech</th>\n",
       "      <th>len_speech</th>\n",
       "    </tr>\n",
       "  </thead>\n",
       "  <tbody>\n",
       "    <tr>\n",
       "      <th>0</th>\n",
       "      <td>obama2010.txt</td>\n",
       "      <td>obama</td>\n",
       "      <td>2010</td>\n",
       "      <td>Madam Speaker, Vice President Biden, members o...</td>\n",
       "      <td>43698</td>\n",
       "    </tr>\n",
       "    <tr>\n",
       "      <th>1</th>\n",
       "      <td>obama2011.txt</td>\n",
       "      <td>obama</td>\n",
       "      <td>2011</td>\n",
       "      <td>Mr. Speaker, Mr. Vice President, members of Co...</td>\n",
       "      <td>41023</td>\n",
       "    </tr>\n",
       "    <tr>\n",
       "      <th>2</th>\n",
       "      <td>obama2012.txt</td>\n",
       "      <td>obama</td>\n",
       "      <td>2012</td>\n",
       "      <td>Mr. Speaker, Mr. Vice President, members of C...</td>\n",
       "      <td>42204</td>\n",
       "    </tr>\n",
       "    <tr>\n",
       "      <th>3</th>\n",
       "      <td>obama2013.txt</td>\n",
       "      <td>obama</td>\n",
       "      <td>2013</td>\n",
       "      <td>Mr. Speaker, Mr. Vice President, members of Co...</td>\n",
       "      <td>41202</td>\n",
       "    </tr>\n",
       "    <tr>\n",
       "      <th>4</th>\n",
       "      <td>obama2014.txt</td>\n",
       "      <td>obama</td>\n",
       "      <td>2014</td>\n",
       "      <td>Mr. Speaker, Mr. Vice President, Members of Co...</td>\n",
       "      <td>40009</td>\n",
       "    </tr>\n",
       "    <tr>\n",
       "      <th>5</th>\n",
       "      <td>obama2015.txt</td>\n",
       "      <td>obama</td>\n",
       "      <td>2015</td>\n",
       "      <td>Mr. Speaker, Mr. Vice President, Members of Co...</td>\n",
       "      <td>40269</td>\n",
       "    </tr>\n",
       "    <tr>\n",
       "      <th>6</th>\n",
       "      <td>obama2016.txt</td>\n",
       "      <td>obama</td>\n",
       "      <td>2016</td>\n",
       "      <td>Mr. Speaker, Mr. Vice President, Members of Co...</td>\n",
       "      <td>31167</td>\n",
       "    </tr>\n",
       "    <tr>\n",
       "      <th>7</th>\n",
       "      <td>trump2018.txt</td>\n",
       "      <td>trump</td>\n",
       "      <td>2018</td>\n",
       "      <td>Mr. Speaker, Mr. Vice President, Members of Co...</td>\n",
       "      <td>30457</td>\n",
       "    </tr>\n",
       "    <tr>\n",
       "      <th>8</th>\n",
       "      <td>trump2019.txt</td>\n",
       "      <td>trump</td>\n",
       "      <td>2019</td>\n",
       "      <td>Madam Speaker, Mr. Vice President, Members of ...</td>\n",
       "      <td>30945</td>\n",
       "    </tr>\n",
       "    <tr>\n",
       "      <th>9</th>\n",
       "      <td>trump2020.txt</td>\n",
       "      <td>trump</td>\n",
       "      <td>2020</td>\n",
       "      <td>Thank you very much.  Thank you.  Thank you v...</td>\n",
       "      <td>39649</td>\n",
       "    </tr>\n",
       "  </tbody>\n",
       "</table>\n",
       "</div>"
      ],
      "text/plain": [
       "        filename   name  year  \\\n",
       "0  obama2010.txt  obama  2010   \n",
       "1  obama2011.txt  obama  2011   \n",
       "2  obama2012.txt  obama  2012   \n",
       "3  obama2013.txt  obama  2013   \n",
       "4  obama2014.txt  obama  2014   \n",
       "5  obama2015.txt  obama  2015   \n",
       "6  obama2016.txt  obama  2016   \n",
       "7  trump2018.txt  trump  2018   \n",
       "8  trump2019.txt  trump  2019   \n",
       "9  trump2020.txt  trump  2020   \n",
       "\n",
       "                                              speech  len_speech  \n",
       "0  Madam Speaker, Vice President Biden, members o...       43698  \n",
       "1  Mr. Speaker, Mr. Vice President, members of Co...       41023  \n",
       "2   Mr. Speaker, Mr. Vice President, members of C...       42204  \n",
       "3  Mr. Speaker, Mr. Vice President, members of Co...       41202  \n",
       "4  Mr. Speaker, Mr. Vice President, Members of Co...       40009  \n",
       "5  Mr. Speaker, Mr. Vice President, Members of Co...       40269  \n",
       "6  Mr. Speaker, Mr. Vice President, Members of Co...       31167  \n",
       "7  Mr. Speaker, Mr. Vice President, Members of Co...       30457  \n",
       "8  Madam Speaker, Mr. Vice President, Members of ...       30945  \n",
       "9   Thank you very much.  Thank you.  Thank you v...       39649  "
      ]
     },
     "execution_count": 3,
     "metadata": {},
     "output_type": "execute_result"
    }
   ],
   "source": [
    "df['len_speech'] = df['speech'].str.len()\n",
    "df.head(10)"
   ]
  },
  {
   "cell_type": "markdown",
   "metadata": {},
   "source": [
    "### Step 4: Replace \"!\" and \"?\" with \".\" in speech\n",
    "We'll be getting the number of sentences in the speeches, so let's replace our exclamation and question marks with a full stop so that we can split the sentences cleanly later on.\n",
    "\n",
    "There are a few ways to do this, so go ahead and pick your favorite method. \n",
    "\n",
    "<strong>Hint: Google \"how to replace text in a column of a Pandas dataframe?\"</strong>"
   ]
  },
  {
   "cell_type": "code",
   "execution_count": 4,
   "metadata": {
    "scrolled": true
   },
   "outputs": [
    {
     "data": {
      "text/html": [
       "<div>\n",
       "<style scoped>\n",
       "    .dataframe tbody tr th:only-of-type {\n",
       "        vertical-align: middle;\n",
       "    }\n",
       "\n",
       "    .dataframe tbody tr th {\n",
       "        vertical-align: top;\n",
       "    }\n",
       "\n",
       "    .dataframe thead th {\n",
       "        text-align: right;\n",
       "    }\n",
       "</style>\n",
       "<table border=\"1\" class=\"dataframe\">\n",
       "  <thead>\n",
       "    <tr style=\"text-align: right;\">\n",
       "      <th></th>\n",
       "      <th>filename</th>\n",
       "      <th>name</th>\n",
       "      <th>year</th>\n",
       "      <th>speech</th>\n",
       "      <th>len_speech</th>\n",
       "    </tr>\n",
       "  </thead>\n",
       "  <tbody>\n",
       "    <tr>\n",
       "      <th>0</th>\n",
       "      <td>obama2010.txt</td>\n",
       "      <td>obama</td>\n",
       "      <td>2010</td>\n",
       "      <td>Madam Speaker, Vice President Biden, members o...</td>\n",
       "      <td>43698</td>\n",
       "    </tr>\n",
       "    <tr>\n",
       "      <th>1</th>\n",
       "      <td>obama2011.txt</td>\n",
       "      <td>obama</td>\n",
       "      <td>2011</td>\n",
       "      <td>Mr. Speaker, Mr. Vice President, members of Co...</td>\n",
       "      <td>41023</td>\n",
       "    </tr>\n",
       "    <tr>\n",
       "      <th>2</th>\n",
       "      <td>obama2012.txt</td>\n",
       "      <td>obama</td>\n",
       "      <td>2012</td>\n",
       "      <td>Mr. Speaker, Mr. Vice President, members of C...</td>\n",
       "      <td>42204</td>\n",
       "    </tr>\n",
       "    <tr>\n",
       "      <th>3</th>\n",
       "      <td>obama2013.txt</td>\n",
       "      <td>obama</td>\n",
       "      <td>2013</td>\n",
       "      <td>Mr. Speaker, Mr. Vice President, members of Co...</td>\n",
       "      <td>41202</td>\n",
       "    </tr>\n",
       "    <tr>\n",
       "      <th>4</th>\n",
       "      <td>obama2014.txt</td>\n",
       "      <td>obama</td>\n",
       "      <td>2014</td>\n",
       "      <td>Mr. Speaker, Mr. Vice President, Members of Co...</td>\n",
       "      <td>40009</td>\n",
       "    </tr>\n",
       "  </tbody>\n",
       "</table>\n",
       "</div>"
      ],
      "text/plain": [
       "        filename   name  year  \\\n",
       "0  obama2010.txt  obama  2010   \n",
       "1  obama2011.txt  obama  2011   \n",
       "2  obama2012.txt  obama  2012   \n",
       "3  obama2013.txt  obama  2013   \n",
       "4  obama2014.txt  obama  2014   \n",
       "\n",
       "                                              speech  len_speech  \n",
       "0  Madam Speaker, Vice President Biden, members o...       43698  \n",
       "1  Mr. Speaker, Mr. Vice President, members of Co...       41023  \n",
       "2   Mr. Speaker, Mr. Vice President, members of C...       42204  \n",
       "3  Mr. Speaker, Mr. Vice President, members of Co...       41202  \n",
       "4  Mr. Speaker, Mr. Vice President, Members of Co...       40009  "
      ]
     },
     "execution_count": 4,
     "metadata": {},
     "output_type": "execute_result"
    }
   ],
   "source": [
    "df['speech'] = df['speech'].str.replace('!', '.')\n",
    "df['speech'] = df['speech'].str.replace('?', '.')\n",
    "df.head()"
   ]
  },
  {
   "cell_type": "markdown",
   "metadata": {},
   "source": [
    "### Step 5: Split the speech and get the number of sentences\n",
    "In this step, you will need to do two things:\n",
    "1. Split the speech into a list of sentences by splitting based on \".\"\n",
    "2. Get the resulting length of the list\n",
    "\n",
    "Don't sweat the potential inaccuraries - for this particular task we will trade speed and convenience for data cleanliness.\n",
    "\n",
    "Once again, don't panic if your values differ slightly from what you see in this image.\n"
   ]
  },
  {
   "cell_type": "code",
   "execution_count": 5,
   "metadata": {},
   "outputs": [
    {
     "data": {
      "text/html": [
       "<div>\n",
       "<style scoped>\n",
       "    .dataframe tbody tr th:only-of-type {\n",
       "        vertical-align: middle;\n",
       "    }\n",
       "\n",
       "    .dataframe tbody tr th {\n",
       "        vertical-align: top;\n",
       "    }\n",
       "\n",
       "    .dataframe thead th {\n",
       "        text-align: right;\n",
       "    }\n",
       "</style>\n",
       "<table border=\"1\" class=\"dataframe\">\n",
       "  <thead>\n",
       "    <tr style=\"text-align: right;\">\n",
       "      <th></th>\n",
       "      <th>filename</th>\n",
       "      <th>name</th>\n",
       "      <th>year</th>\n",
       "      <th>speech</th>\n",
       "      <th>len_speech</th>\n",
       "      <th>sentences</th>\n",
       "      <th>num_sentences</th>\n",
       "    </tr>\n",
       "  </thead>\n",
       "  <tbody>\n",
       "    <tr>\n",
       "      <th>0</th>\n",
       "      <td>obama2010.txt</td>\n",
       "      <td>obama</td>\n",
       "      <td>2010</td>\n",
       "      <td>Madam Speaker, Vice President Biden, members o...</td>\n",
       "      <td>43698</td>\n",
       "      <td>[Madam Speaker, Vice President Biden, members ...</td>\n",
       "      <td>562</td>\n",
       "    </tr>\n",
       "    <tr>\n",
       "      <th>1</th>\n",
       "      <td>obama2011.txt</td>\n",
       "      <td>obama</td>\n",
       "      <td>2011</td>\n",
       "      <td>Mr. Speaker, Mr. Vice President, members of Co...</td>\n",
       "      <td>41023</td>\n",
       "      <td>[Mr,  Speaker, Mr,  Vice President, members of...</td>\n",
       "      <td>500</td>\n",
       "    </tr>\n",
       "    <tr>\n",
       "      <th>2</th>\n",
       "      <td>obama2012.txt</td>\n",
       "      <td>obama</td>\n",
       "      <td>2012</td>\n",
       "      <td>Mr. Speaker, Mr. Vice President, members of C...</td>\n",
       "      <td>42204</td>\n",
       "      <td>[ Mr,  Speaker, Mr,  Vice President, members o...</td>\n",
       "      <td>518</td>\n",
       "    </tr>\n",
       "    <tr>\n",
       "      <th>3</th>\n",
       "      <td>obama2013.txt</td>\n",
       "      <td>obama</td>\n",
       "      <td>2013</td>\n",
       "      <td>Mr. Speaker, Mr. Vice President, members of Co...</td>\n",
       "      <td>41202</td>\n",
       "      <td>[Mr,  Speaker, Mr,  Vice President, members of...</td>\n",
       "      <td>455</td>\n",
       "    </tr>\n",
       "    <tr>\n",
       "      <th>4</th>\n",
       "      <td>obama2014.txt</td>\n",
       "      <td>obama</td>\n",
       "      <td>2014</td>\n",
       "      <td>Mr. Speaker, Mr. Vice President, Members of Co...</td>\n",
       "      <td>40009</td>\n",
       "      <td>[Mr,  Speaker, Mr,  Vice President, Members of...</td>\n",
       "      <td>352</td>\n",
       "    </tr>\n",
       "  </tbody>\n",
       "</table>\n",
       "</div>"
      ],
      "text/plain": [
       "        filename   name  year  \\\n",
       "0  obama2010.txt  obama  2010   \n",
       "1  obama2011.txt  obama  2011   \n",
       "2  obama2012.txt  obama  2012   \n",
       "3  obama2013.txt  obama  2013   \n",
       "4  obama2014.txt  obama  2014   \n",
       "\n",
       "                                              speech  len_speech  \\\n",
       "0  Madam Speaker, Vice President Biden, members o...       43698   \n",
       "1  Mr. Speaker, Mr. Vice President, members of Co...       41023   \n",
       "2   Mr. Speaker, Mr. Vice President, members of C...       42204   \n",
       "3  Mr. Speaker, Mr. Vice President, members of Co...       41202   \n",
       "4  Mr. Speaker, Mr. Vice President, Members of Co...       40009   \n",
       "\n",
       "                                           sentences  num_sentences  \n",
       "0  [Madam Speaker, Vice President Biden, members ...            562  \n",
       "1  [Mr,  Speaker, Mr,  Vice President, members of...            500  \n",
       "2  [ Mr,  Speaker, Mr,  Vice President, members o...            518  \n",
       "3  [Mr,  Speaker, Mr,  Vice President, members of...            455  \n",
       "4  [Mr,  Speaker, Mr,  Vice President, Members of...            352  "
      ]
     },
     "execution_count": 5,
     "metadata": {},
     "output_type": "execute_result"
    }
   ],
   "source": [
    "df['sentences'] = df['speech'].str.split(pat = \".\")\n",
    "df['num_sentences'] = df['sentences'].str.len()\n",
    "df.head()"
   ]
  },
  {
   "cell_type": "markdown",
   "metadata": {},
   "source": [
    "### Step 6: Get the average sentence length\n",
    "It's not enough that we get the absolute length of the speeches, and the number of sentences. \n",
    "\n",
    "We should also create a column named 'average_sen_length' that tells you what the average number of characters there are in a sentence. \n",
    "\n",
    "<strong>Hint: Google \"create a column from two columns pandas\"</strong>"
   ]
  },
  {
   "cell_type": "code",
   "execution_count": 6,
   "metadata": {},
   "outputs": [],
   "source": [
    "df['average_sen_length'] = df['len_speech'] / df['num_sentences']"
   ]
  },
  {
   "cell_type": "code",
   "execution_count": 7,
   "metadata": {},
   "outputs": [
    {
     "data": {
      "text/html": [
       "<div>\n",
       "<style scoped>\n",
       "    .dataframe tbody tr th:only-of-type {\n",
       "        vertical-align: middle;\n",
       "    }\n",
       "\n",
       "    .dataframe tbody tr th {\n",
       "        vertical-align: top;\n",
       "    }\n",
       "\n",
       "    .dataframe thead th {\n",
       "        text-align: right;\n",
       "    }\n",
       "</style>\n",
       "<table border=\"1\" class=\"dataframe\">\n",
       "  <thead>\n",
       "    <tr style=\"text-align: right;\">\n",
       "      <th></th>\n",
       "      <th>filename</th>\n",
       "      <th>name</th>\n",
       "      <th>year</th>\n",
       "      <th>speech</th>\n",
       "      <th>len_speech</th>\n",
       "      <th>sentences</th>\n",
       "      <th>num_sentences</th>\n",
       "      <th>average_sen_length</th>\n",
       "    </tr>\n",
       "  </thead>\n",
       "  <tbody>\n",
       "    <tr>\n",
       "      <th>0</th>\n",
       "      <td>obama2010.txt</td>\n",
       "      <td>obama</td>\n",
       "      <td>2010</td>\n",
       "      <td>Madam Speaker, Vice President Biden, members o...</td>\n",
       "      <td>43698</td>\n",
       "      <td>[Madam Speaker, Vice President Biden, members ...</td>\n",
       "      <td>562</td>\n",
       "      <td>77.754448</td>\n",
       "    </tr>\n",
       "    <tr>\n",
       "      <th>1</th>\n",
       "      <td>obama2011.txt</td>\n",
       "      <td>obama</td>\n",
       "      <td>2011</td>\n",
       "      <td>Mr. Speaker, Mr. Vice President, members of Co...</td>\n",
       "      <td>41023</td>\n",
       "      <td>[Mr,  Speaker, Mr,  Vice President, members of...</td>\n",
       "      <td>500</td>\n",
       "      <td>82.046000</td>\n",
       "    </tr>\n",
       "    <tr>\n",
       "      <th>2</th>\n",
       "      <td>obama2012.txt</td>\n",
       "      <td>obama</td>\n",
       "      <td>2012</td>\n",
       "      <td>Mr. Speaker, Mr. Vice President, members of C...</td>\n",
       "      <td>42204</td>\n",
       "      <td>[ Mr,  Speaker, Mr,  Vice President, members o...</td>\n",
       "      <td>518</td>\n",
       "      <td>81.474903</td>\n",
       "    </tr>\n",
       "    <tr>\n",
       "      <th>3</th>\n",
       "      <td>obama2013.txt</td>\n",
       "      <td>obama</td>\n",
       "      <td>2013</td>\n",
       "      <td>Mr. Speaker, Mr. Vice President, members of Co...</td>\n",
       "      <td>41202</td>\n",
       "      <td>[Mr,  Speaker, Mr,  Vice President, members of...</td>\n",
       "      <td>455</td>\n",
       "      <td>90.553846</td>\n",
       "    </tr>\n",
       "    <tr>\n",
       "      <th>4</th>\n",
       "      <td>obama2014.txt</td>\n",
       "      <td>obama</td>\n",
       "      <td>2014</td>\n",
       "      <td>Mr. Speaker, Mr. Vice President, Members of Co...</td>\n",
       "      <td>40009</td>\n",
       "      <td>[Mr,  Speaker, Mr,  Vice President, Members of...</td>\n",
       "      <td>352</td>\n",
       "      <td>113.661932</td>\n",
       "    </tr>\n",
       "  </tbody>\n",
       "</table>\n",
       "</div>"
      ],
      "text/plain": [
       "        filename   name  year  \\\n",
       "0  obama2010.txt  obama  2010   \n",
       "1  obama2011.txt  obama  2011   \n",
       "2  obama2012.txt  obama  2012   \n",
       "3  obama2013.txt  obama  2013   \n",
       "4  obama2014.txt  obama  2014   \n",
       "\n",
       "                                              speech  len_speech  \\\n",
       "0  Madam Speaker, Vice President Biden, members o...       43698   \n",
       "1  Mr. Speaker, Mr. Vice President, members of Co...       41023   \n",
       "2   Mr. Speaker, Mr. Vice President, members of C...       42204   \n",
       "3  Mr. Speaker, Mr. Vice President, members of Co...       41202   \n",
       "4  Mr. Speaker, Mr. Vice President, Members of Co...       40009   \n",
       "\n",
       "                                           sentences  num_sentences  \\\n",
       "0  [Madam Speaker, Vice President Biden, members ...            562   \n",
       "1  [Mr,  Speaker, Mr,  Vice President, members of...            500   \n",
       "2  [ Mr,  Speaker, Mr,  Vice President, members o...            518   \n",
       "3  [Mr,  Speaker, Mr,  Vice President, members of...            455   \n",
       "4  [Mr,  Speaker, Mr,  Vice President, Members of...            352   \n",
       "\n",
       "   average_sen_length  \n",
       "0           77.754448  \n",
       "1           82.046000  \n",
       "2           81.474903  \n",
       "3           90.553846  \n",
       "4          113.661932  "
      ]
     },
     "execution_count": 7,
     "metadata": {},
     "output_type": "execute_result"
    }
   ],
   "source": [
    "df.head()"
   ]
  },
  {
   "cell_type": "markdown",
   "metadata": {},
   "source": [
    "### Step 7: Import readability\n",
    "We will now get some readability scores for the speeches. \n",
    "\n",
    "Why so? Readability indicates how accessible the ideas in the speeches are, and accessibility helps with connecting with the audience.\n",
    "\n",
    "That said, since these are speech transcripts, they're not exactly meant for reading. However, it's still a good idea to see if we can analyze the readability of their speeches.\n",
    "\n",
    "There are a lot of readability scores, but we will focus on two scores:\n",
    "1. SMOG\n",
    "2. Flesch reading ease score\n",
    "\n",
    "Readings:\n",
    "1. https://en.wikipedia.org/wiki/SMOG\n",
    "2. https://en.wikipedia.org/wiki/Flesch%E2%80%93Kincaid_readability_tests\n",
    "3. [Important] https://pypi.org/project/readability/"
   ]
  },
  {
   "cell_type": "code",
   "execution_count": 8,
   "metadata": {},
   "outputs": [],
   "source": [
    "import readability"
   ]
  },
  {
   "cell_type": "markdown",
   "metadata": {},
   "source": [
    "### Step 8: Add SMOGIndex and FleschReadingEase into your DataFrame\n",
    "As mentioned, we will be using these two commonly used scores in readability tests.\n",
    "\n",
    "Loop through the values in the 'speech' column and get the scores for your new column, named 'SMOG_index' and 'Flesch_score'."
   ]
  },
  {
   "cell_type": "code",
   "execution_count": 9,
   "metadata": {},
   "outputs": [],
   "source": [
    "import numpy as np"
   ]
  },
  {
   "cell_type": "code",
   "execution_count": 10,
   "metadata": {},
   "outputs": [],
   "source": [
    "smog = []\n",
    "flesch = []\n",
    "for i, j in df.iterrows(): \n",
    "    results = readability.getmeasures(j['speech'], lang='en')\n",
    "    j['SMOG_index'] = results['readability grades']['SMOGIndex']\n",
    "    j['Flesch_score'] = results['readability grades']['FleschReadingEase']\n",
    "    smog.append(j['SMOG_index'])\n",
    "    flesch.append(j['Flesch_score'])"
   ]
  },
  {
   "cell_type": "code",
   "execution_count": 11,
   "metadata": {},
   "outputs": [],
   "source": [
    "df['SMOG_index'] = pd.DataFrame(smog)\n",
    "df['Flesch_score'] = pd.DataFrame(flesch)"
   ]
  },
  {
   "cell_type": "code",
   "execution_count": 12,
   "metadata": {},
   "outputs": [
    {
     "data": {
      "text/html": [
       "<div>\n",
       "<style scoped>\n",
       "    .dataframe tbody tr th:only-of-type {\n",
       "        vertical-align: middle;\n",
       "    }\n",
       "\n",
       "    .dataframe tbody tr th {\n",
       "        vertical-align: top;\n",
       "    }\n",
       "\n",
       "    .dataframe thead th {\n",
       "        text-align: right;\n",
       "    }\n",
       "</style>\n",
       "<table border=\"1\" class=\"dataframe\">\n",
       "  <thead>\n",
       "    <tr style=\"text-align: right;\">\n",
       "      <th></th>\n",
       "      <th>filename</th>\n",
       "      <th>name</th>\n",
       "      <th>year</th>\n",
       "      <th>speech</th>\n",
       "      <th>len_speech</th>\n",
       "      <th>sentences</th>\n",
       "      <th>num_sentences</th>\n",
       "      <th>average_sen_length</th>\n",
       "      <th>SMOG_index</th>\n",
       "      <th>Flesch_score</th>\n",
       "    </tr>\n",
       "  </thead>\n",
       "  <tbody>\n",
       "    <tr>\n",
       "      <th>0</th>\n",
       "      <td>obama2010.txt</td>\n",
       "      <td>obama</td>\n",
       "      <td>2010</td>\n",
       "      <td>Madam Speaker, Vice President Biden, members o...</td>\n",
       "      <td>43698</td>\n",
       "      <td>[Madam Speaker, Vice President Biden, members ...</td>\n",
       "      <td>562</td>\n",
       "      <td>77.754448</td>\n",
       "      <td>17.826429</td>\n",
       "      <td>24.720575</td>\n",
       "    </tr>\n",
       "    <tr>\n",
       "      <th>1</th>\n",
       "      <td>obama2011.txt</td>\n",
       "      <td>obama</td>\n",
       "      <td>2011</td>\n",
       "      <td>Mr. Speaker, Mr. Vice President, members of Co...</td>\n",
       "      <td>41023</td>\n",
       "      <td>[Mr,  Speaker, Mr,  Vice President, members of...</td>\n",
       "      <td>500</td>\n",
       "      <td>82.046000</td>\n",
       "      <td>16.543303</td>\n",
       "      <td>32.322806</td>\n",
       "    </tr>\n",
       "    <tr>\n",
       "      <th>2</th>\n",
       "      <td>obama2012.txt</td>\n",
       "      <td>obama</td>\n",
       "      <td>2012</td>\n",
       "      <td>Mr. Speaker, Mr. Vice President, members of C...</td>\n",
       "      <td>42204</td>\n",
       "      <td>[ Mr,  Speaker, Mr,  Vice President, members o...</td>\n",
       "      <td>518</td>\n",
       "      <td>81.474903</td>\n",
       "      <td>17.344065</td>\n",
       "      <td>26.228014</td>\n",
       "    </tr>\n",
       "    <tr>\n",
       "      <th>3</th>\n",
       "      <td>obama2013.txt</td>\n",
       "      <td>obama</td>\n",
       "      <td>2013</td>\n",
       "      <td>Mr. Speaker, Mr. Vice President, members of Co...</td>\n",
       "      <td>41202</td>\n",
       "      <td>[Mr,  Speaker, Mr,  Vice President, members of...</td>\n",
       "      <td>455</td>\n",
       "      <td>90.553846</td>\n",
       "      <td>14.187551</td>\n",
       "      <td>52.062427</td>\n",
       "    </tr>\n",
       "    <tr>\n",
       "      <th>4</th>\n",
       "      <td>obama2014.txt</td>\n",
       "      <td>obama</td>\n",
       "      <td>2014</td>\n",
       "      <td>Mr. Speaker, Mr. Vice President, Members of Co...</td>\n",
       "      <td>40009</td>\n",
       "      <td>[Mr,  Speaker, Mr,  Vice President, Members of...</td>\n",
       "      <td>352</td>\n",
       "      <td>113.661932</td>\n",
       "      <td>19.064501</td>\n",
       "      <td>9.227649</td>\n",
       "    </tr>\n",
       "    <tr>\n",
       "      <th>5</th>\n",
       "      <td>obama2015.txt</td>\n",
       "      <td>obama</td>\n",
       "      <td>2015</td>\n",
       "      <td>Mr. Speaker, Mr. Vice President, Members of Co...</td>\n",
       "      <td>40269</td>\n",
       "      <td>[Mr,  Speaker, Mr,  Vice President, Members of...</td>\n",
       "      <td>466</td>\n",
       "      <td>86.414163</td>\n",
       "      <td>13.518314</td>\n",
       "      <td>56.194377</td>\n",
       "    </tr>\n",
       "    <tr>\n",
       "      <th>6</th>\n",
       "      <td>obama2016.txt</td>\n",
       "      <td>obama</td>\n",
       "      <td>2016</td>\n",
       "      <td>Mr. Speaker, Mr. Vice President, Members of Co...</td>\n",
       "      <td>31167</td>\n",
       "      <td>[Mr,  Speaker, Mr,  Vice President, Members of...</td>\n",
       "      <td>305</td>\n",
       "      <td>102.186885</td>\n",
       "      <td>17.441406</td>\n",
       "      <td>25.062509</td>\n",
       "    </tr>\n",
       "    <tr>\n",
       "      <th>7</th>\n",
       "      <td>trump2018.txt</td>\n",
       "      <td>trump</td>\n",
       "      <td>2018</td>\n",
       "      <td>Mr. Speaker, Mr. Vice President, Members of Co...</td>\n",
       "      <td>30457</td>\n",
       "      <td>[Mr,  Speaker, Mr,  Vice President, Members of...</td>\n",
       "      <td>323</td>\n",
       "      <td>94.294118</td>\n",
       "      <td>13.843611</td>\n",
       "      <td>51.034490</td>\n",
       "    </tr>\n",
       "    <tr>\n",
       "      <th>8</th>\n",
       "      <td>trump2019.txt</td>\n",
       "      <td>trump</td>\n",
       "      <td>2019</td>\n",
       "      <td>Madam Speaker, Mr. Vice President, Members of ...</td>\n",
       "      <td>30945</td>\n",
       "      <td>[Madam Speaker, Mr,  Vice President, Members o...</td>\n",
       "      <td>298</td>\n",
       "      <td>103.842282</td>\n",
       "      <td>14.799100</td>\n",
       "      <td>44.106260</td>\n",
       "    </tr>\n",
       "    <tr>\n",
       "      <th>9</th>\n",
       "      <td>trump2020.txt</td>\n",
       "      <td>trump</td>\n",
       "      <td>2020</td>\n",
       "      <td>Thank you very much.  Thank you.  Thank you v...</td>\n",
       "      <td>39649</td>\n",
       "      <td>[ Thank you very much,   Thank you,   Thank yo...</td>\n",
       "      <td>557</td>\n",
       "      <td>71.183124</td>\n",
       "      <td>16.381695</td>\n",
       "      <td>33.439536</td>\n",
       "    </tr>\n",
       "  </tbody>\n",
       "</table>\n",
       "</div>"
      ],
      "text/plain": [
       "        filename   name  year  \\\n",
       "0  obama2010.txt  obama  2010   \n",
       "1  obama2011.txt  obama  2011   \n",
       "2  obama2012.txt  obama  2012   \n",
       "3  obama2013.txt  obama  2013   \n",
       "4  obama2014.txt  obama  2014   \n",
       "5  obama2015.txt  obama  2015   \n",
       "6  obama2016.txt  obama  2016   \n",
       "7  trump2018.txt  trump  2018   \n",
       "8  trump2019.txt  trump  2019   \n",
       "9  trump2020.txt  trump  2020   \n",
       "\n",
       "                                              speech  len_speech  \\\n",
       "0  Madam Speaker, Vice President Biden, members o...       43698   \n",
       "1  Mr. Speaker, Mr. Vice President, members of Co...       41023   \n",
       "2   Mr. Speaker, Mr. Vice President, members of C...       42204   \n",
       "3  Mr. Speaker, Mr. Vice President, members of Co...       41202   \n",
       "4  Mr. Speaker, Mr. Vice President, Members of Co...       40009   \n",
       "5  Mr. Speaker, Mr. Vice President, Members of Co...       40269   \n",
       "6  Mr. Speaker, Mr. Vice President, Members of Co...       31167   \n",
       "7  Mr. Speaker, Mr. Vice President, Members of Co...       30457   \n",
       "8  Madam Speaker, Mr. Vice President, Members of ...       30945   \n",
       "9   Thank you very much.  Thank you.  Thank you v...       39649   \n",
       "\n",
       "                                           sentences  num_sentences  \\\n",
       "0  [Madam Speaker, Vice President Biden, members ...            562   \n",
       "1  [Mr,  Speaker, Mr,  Vice President, members of...            500   \n",
       "2  [ Mr,  Speaker, Mr,  Vice President, members o...            518   \n",
       "3  [Mr,  Speaker, Mr,  Vice President, members of...            455   \n",
       "4  [Mr,  Speaker, Mr,  Vice President, Members of...            352   \n",
       "5  [Mr,  Speaker, Mr,  Vice President, Members of...            466   \n",
       "6  [Mr,  Speaker, Mr,  Vice President, Members of...            305   \n",
       "7  [Mr,  Speaker, Mr,  Vice President, Members of...            323   \n",
       "8  [Madam Speaker, Mr,  Vice President, Members o...            298   \n",
       "9  [ Thank you very much,   Thank you,   Thank yo...            557   \n",
       "\n",
       "   average_sen_length  SMOG_index  Flesch_score  \n",
       "0           77.754448   17.826429     24.720575  \n",
       "1           82.046000   16.543303     32.322806  \n",
       "2           81.474903   17.344065     26.228014  \n",
       "3           90.553846   14.187551     52.062427  \n",
       "4          113.661932   19.064501      9.227649  \n",
       "5           86.414163   13.518314     56.194377  \n",
       "6          102.186885   17.441406     25.062509  \n",
       "7           94.294118   13.843611     51.034490  \n",
       "8          103.842282   14.799100     44.106260  \n",
       "9           71.183124   16.381695     33.439536  "
      ]
     },
     "execution_count": 12,
     "metadata": {},
     "output_type": "execute_result"
    }
   ],
   "source": [
    "df.head(10)"
   ]
  },
  {
   "cell_type": "markdown",
   "metadata": {},
   "source": [
    "## Visualizing the speech metrics\n",
    "Okay, we have successfully extract all the information that we need for now. \n",
    "\n",
    "Next up, we will now visualize them for comparison between Obama and Trump. Most of the analyses will be done using boxplot, and we recommend seaborn as the library of choice here. \n",
    "\n",
    "### Step 9: Analyze len_speech with a boxplot\n",
    "We'll first compare len_speech with a boxplot. \n",
    "\n",
    "Subsequently, we'll be plotting similar plots for the other features that you engineered."
   ]
  },
  {
   "cell_type": "code",
   "execution_count": 13,
   "metadata": {},
   "outputs": [
    {
     "data": {
      "text/plain": [
       "<matplotlib.axes._subplots.AxesSubplot at 0x1e066569828>"
      ]
     },
     "execution_count": 13,
     "metadata": {},
     "output_type": "execute_result"
    },
    {
     "data": {
      "image/png": "[encoded data removed]",
      "text/plain": [
       "<Figure size 432x288 with 1 Axes>"
      ]
     },
     "metadata": {
      "needs_background": "light"
     },
     "output_type": "display_data"
    }
   ],
   "source": [
    "df.boxplot(by ='name', column =['len_speech'], grid = False)"
   ]
  },
  {
   "cell_type": "markdown",
   "metadata": {},
   "source": [
    "### Step 10: Analyze num_sentences with a boxplot\n",
    "Next, we'll first compare num_sentences with a boxplot. "
   ]
  },
  {
   "cell_type": "code",
   "execution_count": 14,
   "metadata": {},
   "outputs": [
    {
     "data": {
      "text/plain": [
       "<matplotlib.axes._subplots.AxesSubplot at 0x1e066584da0>"
      ]
     },
     "execution_count": 14,
     "metadata": {},
     "output_type": "execute_result"
    },
    {
     "data": {
      "image/png": "[encoded data removed]",
      "text/plain": [
       "<Figure size 432x288 with 1 Axes>"
      ]
     },
     "metadata": {
      "needs_background": "light"
     },
     "output_type": "display_data"
    }
   ],
   "source": [
    "df.boxplot(by ='name', column =['num_sentences'], grid = False)"
   ]
  },
  {
   "cell_type": "markdown",
   "metadata": {},
   "source": [
    "### Step 11: Analyze average_sen_length with a boxplot\n",
    "So far, it seems that Trump's speeches are shorter and there are fewer sentences.\n",
    "\n",
    "However, plotting the absolute speech length and number of sentences is one half of a data story - you'll still need to look at the averages/ratio of length to number of sentences.\n",
    "\n",
    "Plot average_sen_length as well."
   ]
  },
  {
   "cell_type": "code",
   "execution_count": 15,
   "metadata": {},
   "outputs": [
    {
     "data": {
      "text/plain": [
       "<matplotlib.axes._subplots.AxesSubplot at 0x1e066595208>"
      ]
     },
     "execution_count": 15,
     "metadata": {},
     "output_type": "execute_result"
    },
    {
     "data": {
      "image/png": "[encoded data removed]",
      "text/plain": [
       "<Figure size 432x288 with 1 Axes>"
      ]
     },
     "metadata": {
      "needs_background": "light"
     },
     "output_type": "display_data"
    }
   ],
   "source": [
    "df.boxplot(by ='name', column =['average_sen_length'], grid = False)"
   ]
  },
  {
   "cell_type": "markdown",
   "metadata": {},
   "source": [
    "### Step 12: Get the mean of the 'average_sen_length' for Obama and Trump respectively\n",
    "We anticipate that you'll find something surprising in the boxplots - turns out that the average_sen_length is visually similar.\n",
    "\n",
    "How similar? \n",
    "\n",
    "Give it a look by getting the average_sen_length of Obama and Trump, and see how much their averages differ.\n",
    "\n",
    "You can do this by creating two new DataFrames based on the 'name' column, and get the mean of 'average_sen_length'."
   ]
  },
  {
   "cell_type": "code",
   "execution_count": 16,
   "metadata": {},
   "outputs": [
    {
     "name": "stdout",
     "output_type": "stream",
     "text": [
      "Obama: 90.5845968830769\n",
      "Trump: 89.77317446805695\n"
     ]
    }
   ],
   "source": [
    "x = 0\n",
    "y = 0\n",
    "for i, j in df.iterrows():\n",
    "    if j['name'] == 'obama':\n",
    "        x += j['average_sen_length']\n",
    "    else:\n",
    "        y += j['average_sen_length']\n",
    "\n",
    "o = x/7\n",
    "t = y/3\n",
    "print('Obama:', o)\n",
    "print('Trump:', t)"
   ]
  },
  {
   "cell_type": "markdown",
   "metadata": {},
   "source": [
    "### Step 13: Analyze SMOG_index with a boxplot\n",
    "Next up, let's compare the readability of the two individuals' speeches.\n",
    "\n",
    "We'll start with a boxplot for SMOG_index.\n",
    "\n",
    "P.S. The higher the SMOG score, the harder it is to read"
   ]
  },
  {
   "cell_type": "code",
   "execution_count": 17,
   "metadata": {},
   "outputs": [
    {
     "data": {
      "text/plain": [
       "<matplotlib.axes._subplots.AxesSubplot at 0x1e0665ba438>"
      ]
     },
     "execution_count": 17,
     "metadata": {},
     "output_type": "execute_result"
    },
    {
     "data": {
      "image/png": "[encoded data removed]",
      "text/plain": [
       "<Figure size 432x288 with 1 Axes>"
      ]
     },
     "metadata": {
      "needs_background": "light"
     },
     "output_type": "display_data"
    }
   ],
   "source": [
    "df.boxplot(by ='name', column =['SMOG_index'], grid = False)"
   ]
  },
  {
   "cell_type": "markdown",
   "metadata": {},
   "source": [
    "### Step 14: Analyze Flesch_score with a boxplot\n",
    "Once you clear the SMOG, next up is Flesch_score. \n",
    "\n",
    "Same thing, plot a boxplot for Flesch_score.\n",
    "\n",
    "P.S. The higher the Flesch Reading Ease score, the easier it is to read."
   ]
  },
  {
   "cell_type": "code",
   "execution_count": 18,
   "metadata": {},
   "outputs": [
    {
     "data": {
      "text/plain": [
       "<matplotlib.axes._subplots.AxesSubplot at 0x1e0665ba668>"
      ]
     },
     "execution_count": 18,
     "metadata": {},
     "output_type": "execute_result"
    },
    {
     "data": {
      "image/png": "[encoded data removed]",
      "text/plain": [
       "<Figure size 432x288 with 1 Axes>"
      ]
     },
     "metadata": {
      "needs_background": "light"
     },
     "output_type": "display_data"
    }
   ],
   "source": [
    "df.boxplot(by ='name', column =['Flesch_score'], grid = False)"
   ]
  },
  {
   "cell_type": "markdown",
   "metadata": {},
   "source": [
    "Now that you've plotted the barplots for SMOG and Flesch Reading Ease scores, what can you say about their speeches?\n",
    "\n",
    "Hopefully, you'll come to the same conclusion as us - Trump's speeches are generally easier to read whereas Obama's speeches are harder to read. \n",
    "\n",
    "Interpret that how you will. \n",
    "\n",
    "### Step 15: Export the expanded DataFrame as a CSV\n",
    "Now that we're done plotting, we will be exporting the DataFrame into a CSV for use in other Parts."
   ]
  },
  {
   "cell_type": "code",
   "execution_count": 19,
   "metadata": {},
   "outputs": [],
   "source": [
    "df.to_csv(r'C:\\Users\\daani\\US-Speech-Analysis\\speechDF2.csv', index = False, header = True)"
   ]
  },
  {
   "cell_type": "markdown",
   "metadata": {},
   "source": [
    "### End of Part III\n",
    "Well done for making it this far! It was a lot of work, but you successfully extract a lot of basic text information from the speeches. \n",
    "\n",
    "Next up, we'll use NLP library spaCy to perform technical text analysis on the speeches in Part IV."
   ]
  }
 ],
 "metadata": {
  "kernelspec": {
   "display_name": "U4-S1-NLP (Python3)",
   "language": "python",
   "name": "u4-s1-nlp"
  },
  "language_info": {
   "codemirror_mode": {
    "name": "ipython",
    "version": 3
   },
   "file_extension": ".py",
   "mimetype": "text/x-python",
   "name": "python",
   "nbconvert_exporter": "python",
   "pygments_lexer": "ipython3",
   "version": "3.7.1"
  }
 },
 "nbformat": 4,
 "nbformat_minor": 4
}
